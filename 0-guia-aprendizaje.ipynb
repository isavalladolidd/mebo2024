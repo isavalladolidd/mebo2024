{
 "cells": [
  {
   "cell_type": "markdown",
   "metadata": {},
   "source": [
    "___\n",
    "<img style=\"float: right; margin: 0px 0px 15px 15px;\" src=\"https://upload.wikimedia.org/wikipedia/commons/1/18/Bayes%27_Theorem_MMB_01.jpg\" width=\"500px\" height=\"300px\" />\n",
    "\n",
    "\n",
    "# <font color= #8A0829> Métodos Estadísticos Bayesianos.</font>\n",
    "#### <font color= #2E9AFE>  `Martes y Jueves de 18:00 a 20:00 hrs`</font>\n",
    "- <Strong> Esteban Jiménez Rodríguez </Strong>\n",
    "- <Strong> Otoño 2024</Strong>\n",
    "- <Strong> Copyright: </Strong> MIT, excepto donde se indique lo contrario.\n",
    "\n",
    "- <Strong> Email: </Strong>  <font color=\"blue\"> `esjimenezro@iteso.mx` </font>\n",
    "___"
   ]
  },
  {
   "cell_type": "markdown",
   "metadata": {},
   "source": [
    "### `Presentación mía`\n",
    "___"
   ]
  },
  {
   "cell_type": "markdown",
   "metadata": {},
   "source": [
    "### `Presentación de ustedes`\n",
    "___"
   ]
  },
  {
   "cell_type": "markdown",
   "metadata": {},
   "source": [
    "### `Algunas reglas de juego`\n",
    "\n",
    "Tomado de [Normas mínimas disciplinarias](https://www.dropbox.com/s/sbez0e0rv34na14/NORMAS_MINIMAS_DISCIPLINARIAS.pdf?dl=0).\n",
    "\n",
    "- El inicio de clases es de 10 minutos después de la hora, a partir de ese momento el profesor podrá tomar asistencia. Por ejemplo si el horario de clases es de 7:00 a 9:00 iniciará la clase a las 7:10 y el profesor podrá tomar asistencia. Para los alumnos que lleguen después de tomar lista no existen retardos y a criterio del profesor podrán entrar al salón de clases.\n",
    "- El final de la clase será 10 minutos antes de lo marcado en el horario.\n",
    "- Los alumnos tendrán que esperar al profesor hasta por 20 minutos (30 minutos después de la hora), después de ese tiempo se podrán ir sin falta. En la siguiente clase el profesor indicará la fecha de reposición de la clase o de los minutos por su retraso. En las clases de reposición no se toma asistencia.\n",
    "- Se necesita una asistencia del 80% durante el semestre para tener derecho a examen ordinario. Por lo tanto el máximo de faltas son de 6 al semestre (para cursos de 8 créditos). Quien rebase pierde su derecho a examen ordinario. El mostrar evidencia de enfermedad, actividades deportivas no elimina la falta. Se necesita una asistencia de por lo menos del 60% para tener derecho a\n",
    "extraordinario.\n",
    "- Es obligación del maestro retroalimentar a los alumnos después de haber realizado cualquier tipo de evaluación entregando el examen correspondiente a más tardar dos semanas después de haber efectuado el mismo.\n",
    "- Todas las entregas deben hacerse através de los espacios provistos en canvas, a menos que se especifique lo contrario.\n",
    "- No se recibirán entregas por ningún otro medio. Sin excepción.\n",
    "___"
   ]
  },
  {
   "cell_type": "markdown",
   "metadata": {},
   "source": [
    "### `Horario de asesoría`\n",
    "\n",
    "Martes de 20:00 - 21:00.\n",
    "\n",
    "___"
   ]
  },
  {
   "cell_type": "markdown",
   "metadata": {},
   "source": [
    "### `Descripción de la asignatura`\n"
   ]
  },
  {
   "cell_type": "markdown",
   "metadata": {},
   "source": [
    "#### `OBJETIVO GENERAL `\n"
   ]
  },
  {
   "cell_type": "markdown",
   "metadata": {},
   "source": [
    "`Módulo 1.` **Introducción a Estadística Bayesiana**\n",
    "\n",
    "> Tema 1. Presentación del curso.\n",
    "  - Guía de aprendizaje, herramientas computacionales y repositorio de contenidos del curso.\n",
    "\n",
    "> Tema 2. Recorderis de probabilidad.\n",
    "  - Espacio de probabilidad, probabilidad conjunta, marginal y condicional, independencia, regla de la cadena y regla de Bayes.\n",
    "\n",
    "> Tema 3. Estadística Bayesiana.\n",
    "  - ¿Qué es estadística?\n",
    "  - Estimadores de máxima verosimilitud: problema de overfitting.\n",
    "  - Ajuste de curvas desde una perspectiva probabilística.\n",
    "  - Notación Bayesiana. Actualización Bayesiana.\n",
    "  - Distribuciones previas conjugadas.\n",
    "  \n",
    "> Tema 4. Aplicación: regresión Bayesiana.\n",
    "  - Modelado probabilístico de parámetros en la regresión lineal."
   ]
  },
  {
   "cell_type": "markdown",
   "metadata": {},
   "source": [
    "`Módulo 2.` **Markov Chain Montecarlo (MCMC)**\n",
    "\n",
    "> Tema 10. Estimación Montecarlo y cadenas de Markov.\n",
    "  - Muestreo de distribuciones univariadas.\n",
    "  - Estimación Montecarlo.\n",
    "  - Cadenas de Markov.\n",
    "  \n",
    "> Tema 11. Muestreo de Gibbs y algoritmo de Metropolis-Hastings.\n",
    "  - Muestreo de Gibbs. Ejemplo.\n",
    "  - Algoritmo de Metropolis-Hastings. Ejemplo.\n",
    "  - Hamiltoninan Montecarlo."
   ]
  },
  {
   "cell_type": "markdown",
   "metadata": {},
   "source": [
    "`Módulo 3.` **Modelos de regresión lineal**\n",
    "\n",
    "> Tema 6. Modelos de regresión lineal\n",
    "  - ¿Cómo describimos modelos estadísticamente?\n",
    "  - Modelo Gaussiano de altura de un grupo de personas.\n",
    "  - Predicción lineal.\n",
    "  - Curvas a partir de líneas.\n",
    "  \n",
    "> Tema 7. Asociaciones falsas en presencia de varias variables.\n",
    "  - Asociaciones falsas.\n",
    "  - Relaciones enmascaradas.\n",
    "  - Variables categóricas.\n",
    "  \n",
    "> Tema 8. Causalidad en modelos de regresión.\n",
    "  - Multicolinealidad.\n",
    "  - Bias de post-tratamiento.\n",
    "  - Bias de colision.\n",
    "  \n",
    "> Tema 9. Overfitting y underfitting en modelos de regresión.\n",
    "  - ¿Qué es overfitting y underfitting?\n",
    "  - Regularización.\n",
    "  - Predicción de `accuracy` predictiva."
   ]
  },
  {
   "cell_type": "markdown",
   "metadata": {},
   "source": [
    "`Módulo 4.` **Modelos lineales generalizados**\n",
    "\n",
    "> Tema 12. Entropía y modelos lineales generalizados.\n",
    "  - Máxima entropía.\n",
    "  - Modelos lineales generalizados.\n",
    "  \n",
    "> Tema 13. Modelos con `outputs` enteros.\n",
    "  - Regresión binomial.\n",
    "  - Regresión de poisson.\n",
    "  - Modelos multinomiales.\n"
   ]
  },
  {
   "cell_type": "markdown",
   "metadata": {},
   "source": [
    "### Evaluación\n",
    "\n",
    "- Tareas 20%\n",
    "  - La evaluación de cada tarea se divide en dos partes \n",
    "    - Primera entrega     30%\n",
    "    - Segunda entrega     70% \n",
    "    - Si sacan 100 en la primera entrega, no es necesario hacer la segunda entrega.\n",
    "    - Si sacan menos de 100 en la primera entrega, y no realizan las correcciones para la segunda entrega, se calificará como si no se hubiera hecho segunda entrega.\n",
    "    - Si sacan menos de 100 en la primera entrega, y no realizan segunda entrega, se calificará como si no se hubiera hecho segunda entrega.\n",
    "    - Para tener derecho a segunda entrega, deben realizar la primera entrega.\n",
    "- Proyecto (trabajo en equipo) 30%\n",
    "  - Equipos de 2 integrantes mínimo y 3 máximo. *Esto no se negocia*.\n",
    "- Examenes 34% (17% cada uno)\n",
    "- Quices 16%"
   ]
  },
  {
   "cell_type": "markdown",
   "metadata": {},
   "source": [
    "### Prerrequisitos\n",
    "\n",
    "1. Probabilidad y estadística.\n",
    "2. Álgebra lineal."
   ]
  },
  {
   "cell_type": "markdown",
   "metadata": {},
   "source": [
    "### Bibliografía\n",
    "- Statistical Rethinking: A Bayesian Course with Examples in R and Stan Chapman & Hall/CRC Texts in Statistical Science, Richard McElreath, CRC Press, 2018.\n",
    "- [Bayesian Modeling and Computation in Python](https://bayesiancomputationbook.com/welcome.html), by Osvaldo A. Martin, Ravin Kumar and Junpeng Lao, CRC Press, 2021.\n",
    "- [Pattern Recognition and Machine Learning](https://www.microsoft.com/en-us/research/publication/pattern-recognition-machine-learning/?msockid=162447969c31614317fa55fe9d48601f), by Christopher M. Bishop, Springer, 2006."
   ]
  },
  {
   "cell_type": "markdown",
   "metadata": {},
   "source": [
    "## Anuncios\n",
    "\n",
    "### 1. Clases de martes 20 y jueves 22 de agosto, se posponen.\n",
    "### 2. Primer clase de reposición: sábado 17 de agosto 9:00am.\n",
    "### 3. La otra clase de reposición nos queda pendiente definirla."
   ]
  },
  {
   "cell_type": "markdown",
   "metadata": {},
   "source": [
    "<script>\n",
    "  $(document).ready(function(){\n",
    "    $('div.prompt').hide();\n",
    "    $('div.back-to-top').hide();\n",
    "    $('nav#menubar').hide();\n",
    "    $('.breadcrumb').hide();\n",
    "    $('.hidden-print').hide();\n",
    "  });\n",
    "</script>\n",
    "\n",
    "<footer id=\"attribution\" style=\"float:right; color:#808080; background:#fff;\">\n",
    "Created with Jupyter by Esteban Jiménez Rodríguez.\n",
    "</footer>"
   ]
  }
 ],
 "metadata": {
  "kernelspec": {
   "display_name": "Python 3 (ipykernel)",
   "language": "python",
   "name": "python3"
  },
  "language_info": {
   "codemirror_mode": {
    "name": "ipython",
    "version": 3
   },
   "file_extension": ".py",
   "mimetype": "text/x-python",
   "name": "python",
   "nbconvert_exporter": "python",
   "pygments_lexer": "ipython3",
   "version": "3.10.12"
  }
 },
 "nbformat": 4,
 "nbformat_minor": 4
}
